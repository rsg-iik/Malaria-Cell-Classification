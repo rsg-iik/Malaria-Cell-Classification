{
 "cells": [
  {
   "cell_type": "markdown",
   "metadata": {},
   "source": [
    "# Disease Cell Classification usingTransfer Learning\n"
   ]
  },
  {
   "cell_type": "markdown",
   "metadata": {},
   "source": [
    "# Malaria Cell Detection"
   ]
  },
  {
   "cell_type": "markdown",
   "metadata": {},
   "source": [
    "Please download the dataset from the below url"
   ]
  },
  {
   "cell_type": "code",
   "execution_count": 1,
   "metadata": {},
   "outputs": [],
   "source": [
    "# import the libraries as shown below\n",
    "\n",
    "from tensorflow.keras.layers import Input, Lambda, Dense, Flatten,Conv2D\n",
    "from tensorflow.keras.models import Model\n",
    "from tensorflow.keras.applications.vgg19 import VGG19\n",
    "from tensorflow.keras.applications.resnet50 import preprocess_input\n",
    "from tensorflow.keras.preprocessing import image\n",
    "from tensorflow.keras.preprocessing.image import ImageDataGenerator,load_img\n",
    "from tensorflow.keras.models import Sequential\n",
    "import numpy as np\n",
    "from glob import glob\n",
    "import matplotlib.pyplot as plt"
   ]
  },
  {
   "cell_type": "code",
   "execution_count": 2,
   "metadata": {},
   "outputs": [],
   "source": [
    "# re-size all the images to this\n",
    "IMAGE_SIZE = [224, 224]\n",
    "\n",
    "train_path = 'Dataset/Train'\n",
    "valid_path = 'Dataset/Test'\n"
   ]
  },
  {
   "cell_type": "code",
   "execution_count": 3,
   "metadata": {},
   "outputs": [
    {
     "data": {
      "text/plain": [
       "'2.0.0'"
      ]
     },
     "execution_count": 3,
     "metadata": {},
     "output_type": "execute_result"
    }
   ],
   "source": [
    "import tensorflow as tf\n",
    "tf.__version__"
   ]
  },
  {
   "cell_type": "code",
   "execution_count": 4,
   "metadata": {},
   "outputs": [],
   "source": [
    "# Import the Vgg 16 library as shown below and add preprocessing layer to the front of VGG\n",
    "# Here we will be using imagenet weights\n",
    "\n",
    "mobilnet = VGG19(input_shape=IMAGE_SIZE + [3], weights='imagenet', include_top=False)\n",
    "\n",
    "\n"
   ]
  },
  {
   "cell_type": "code",
   "execution_count": 5,
   "metadata": {},
   "outputs": [],
   "source": [
    "# don't train existing weights\n",
    "for layer in mobilnet.layers:\n",
    "    layer.trainable = False"
   ]
  },
  {
   "cell_type": "code",
   "execution_count": 6,
   "metadata": {},
   "outputs": [],
   "source": [
    "  # useful for getting number of output classes\n",
    "folders = glob('Dataset/Train/*')"
   ]
  },
  {
   "cell_type": "code",
   "execution_count": 7,
   "metadata": {},
   "outputs": [
    {
     "data": {
      "text/plain": [
       "['Dataset/Train\\\\Parasite', 'Dataset/Train\\\\Uninfected']"
      ]
     },
     "execution_count": 7,
     "metadata": {},
     "output_type": "execute_result"
    }
   ],
   "source": [
    "folders"
   ]
  },
  {
   "cell_type": "code",
   "execution_count": 8,
   "metadata": {},
   "outputs": [],
   "source": [
    "# our layers - you can add more if you want\n",
    "x = Flatten()(mobilnet.output)"
   ]
  },
  {
   "cell_type": "code",
   "execution_count": 9,
   "metadata": {},
   "outputs": [],
   "source": [
    "prediction = Dense(len(folders), activation='softmax')(x)\n",
    "\n",
    "# create a model object\n",
    "model = Model(inputs=mobilnet.input, outputs=prediction)"
   ]
  },
  {
   "cell_type": "code",
   "execution_count": 10,
   "metadata": {},
   "outputs": [
    {
     "name": "stdout",
     "output_type": "stream",
     "text": [
      "Model: \"model\"\n",
      "_________________________________________________________________\n",
      "Layer (type)                 Output Shape              Param #   \n",
      "=================================================================\n",
      "input_1 (InputLayer)         [(None, 224, 224, 3)]     0         \n",
      "_________________________________________________________________\n",
      "block1_conv1 (Conv2D)        (None, 224, 224, 64)      1792      \n",
      "_________________________________________________________________\n",
      "block1_conv2 (Conv2D)        (None, 224, 224, 64)      36928     \n",
      "_________________________________________________________________\n",
      "block1_pool (MaxPooling2D)   (None, 112, 112, 64)      0         \n",
      "_________________________________________________________________\n",
      "block2_conv1 (Conv2D)        (None, 112, 112, 128)     73856     \n",
      "_________________________________________________________________\n",
      "block2_conv2 (Conv2D)        (None, 112, 112, 128)     147584    \n",
      "_________________________________________________________________\n",
      "block2_pool (MaxPooling2D)   (None, 56, 56, 128)       0         \n",
      "_________________________________________________________________\n",
      "block3_conv1 (Conv2D)        (None, 56, 56, 256)       295168    \n",
      "_________________________________________________________________\n",
      "block3_conv2 (Conv2D)        (None, 56, 56, 256)       590080    \n",
      "_________________________________________________________________\n",
      "block3_conv3 (Conv2D)        (None, 56, 56, 256)       590080    \n",
      "_________________________________________________________________\n",
      "block3_conv4 (Conv2D)        (None, 56, 56, 256)       590080    \n",
      "_________________________________________________________________\n",
      "block3_pool (MaxPooling2D)   (None, 28, 28, 256)       0         \n",
      "_________________________________________________________________\n",
      "block4_conv1 (Conv2D)        (None, 28, 28, 512)       1180160   \n",
      "_________________________________________________________________\n",
      "block4_conv2 (Conv2D)        (None, 28, 28, 512)       2359808   \n",
      "_________________________________________________________________\n",
      "block4_conv3 (Conv2D)        (None, 28, 28, 512)       2359808   \n",
      "_________________________________________________________________\n",
      "block4_conv4 (Conv2D)        (None, 28, 28, 512)       2359808   \n",
      "_________________________________________________________________\n",
      "block4_pool (MaxPooling2D)   (None, 14, 14, 512)       0         \n",
      "_________________________________________________________________\n",
      "block5_conv1 (Conv2D)        (None, 14, 14, 512)       2359808   \n",
      "_________________________________________________________________\n",
      "block5_conv2 (Conv2D)        (None, 14, 14, 512)       2359808   \n",
      "_________________________________________________________________\n",
      "block5_conv3 (Conv2D)        (None, 14, 14, 512)       2359808   \n",
      "_________________________________________________________________\n",
      "block5_conv4 (Conv2D)        (None, 14, 14, 512)       2359808   \n",
      "_________________________________________________________________\n",
      "block5_pool (MaxPooling2D)   (None, 7, 7, 512)         0         \n",
      "_________________________________________________________________\n",
      "flatten (Flatten)            (None, 25088)             0         \n",
      "_________________________________________________________________\n",
      "dense (Dense)                (None, 2)                 50178     \n",
      "=================================================================\n",
      "Total params: 20,074,562\n",
      "Trainable params: 50,178\n",
      "Non-trainable params: 20,024,384\n",
      "_________________________________________________________________\n"
     ]
    }
   ],
   "source": [
    "\n",
    "# view the structure of the model\n",
    "model.summary()\n"
   ]
  },
  {
   "cell_type": "code",
   "execution_count": 11,
   "metadata": {},
   "outputs": [],
   "source": [
    "from tensorflow.keras.layers import MaxPooling2D"
   ]
  },
  {
   "cell_type": "code",
   "execution_count": 12,
   "metadata": {},
   "outputs": [
    {
     "name": "stdout",
     "output_type": "stream",
     "text": [
      "Model: \"sequential\"\n",
      "_________________________________________________________________\n",
      "Layer (type)                 Output Shape              Param #   \n",
      "=================================================================\n",
      "conv2d (Conv2D)              (None, 224, 224, 16)      208       \n",
      "_________________________________________________________________\n",
      "max_pooling2d (MaxPooling2D) (None, 112, 112, 16)      0         \n",
      "_________________________________________________________________\n",
      "conv2d_1 (Conv2D)            (None, 112, 112, 32)      2080      \n",
      "_________________________________________________________________\n",
      "max_pooling2d_1 (MaxPooling2 (None, 56, 56, 32)        0         \n",
      "_________________________________________________________________\n",
      "conv2d_2 (Conv2D)            (None, 56, 56, 64)        8256      \n",
      "_________________________________________________________________\n",
      "max_pooling2d_2 (MaxPooling2 (None, 28, 28, 64)        0         \n",
      "_________________________________________________________________\n",
      "flatten_1 (Flatten)          (None, 50176)             0         \n",
      "_________________________________________________________________\n",
      "dense_1 (Dense)              (None, 500)               25088500  \n",
      "_________________________________________________________________\n",
      "dense_2 (Dense)              (None, 2)                 1002      \n",
      "=================================================================\n",
      "Total params: 25,100,046\n",
      "Trainable params: 25,100,046\n",
      "Non-trainable params: 0\n",
      "_________________________________________________________________\n"
     ]
    }
   ],
   "source": [
    "### Create Model from scratch using CNN\n",
    "model=Sequential()\n",
    "model.add(Conv2D(filters=16,kernel_size=2,padding=\"same\",activation=\"relu\",input_shape=(224,224,3)))\n",
    "model.add(MaxPooling2D(pool_size=2))\n",
    "model.add(Conv2D(filters=32,kernel_size=2,padding=\"same\",activation =\"relu\"))\n",
    "model.add(MaxPooling2D(pool_size=2))\n",
    "model.add(Conv2D(filters=64,kernel_size=2,padding=\"same\",activation=\"relu\"))\n",
    "model.add(MaxPooling2D(pool_size=2))\n",
    "model.add(Flatten())\n",
    "model.add(Dense(500,activation=\"relu\"))\n",
    "model.add(Dense(2,activation=\"softmax\"))\n",
    "model.summary()"
   ]
  },
  {
   "cell_type": "code",
   "execution_count": 13,
   "metadata": {},
   "outputs": [],
   "source": [
    "# tell the model what cost and optimization method to use\n",
    "model.compile(\n",
    "  loss='categorical_crossentropy',\n",
    "  optimizer='adam',\n",
    "  metrics=['accuracy']\n",
    ")\n"
   ]
  },
  {
   "cell_type": "code",
   "execution_count": 14,
   "metadata": {},
   "outputs": [],
   "source": [
    "# Use the Image Data Generator to import the images from the dataset\n",
    "from tensorflow.keras.preprocessing.image import ImageDataGenerator\n",
    "\n",
    "train_datagen = ImageDataGenerator(rescale = 1./255,\n",
    "                                   shear_range = 0.2,\n",
    "                                   zoom_range = 0.2,\n",
    "                                   horizontal_flip = True)\n",
    "\n",
    "test_datagen = ImageDataGenerator(rescale = 1./255)"
   ]
  },
  {
   "cell_type": "code",
   "execution_count": 15,
   "metadata": {},
   "outputs": [
    {
     "name": "stdout",
     "output_type": "stream",
     "text": [
      "Found 416 images belonging to 2 classes.\n"
     ]
    }
   ],
   "source": [
    "# Make sure you provide the same target size as initialied for the image size\n",
    "training_set = train_datagen.flow_from_directory('Dataset/Train',\n",
    "                                                 target_size = (224, 224),\n",
    "                                                 batch_size = 32,\n",
    "                                                 class_mode = 'categorical')"
   ]
  },
  {
   "cell_type": "code",
   "execution_count": 15,
   "metadata": {},
   "outputs": [
    {
     "data": {
      "text/plain": [
       "<keras_preprocessing.image.directory_iterator.DirectoryIterator at 0x22b6e01fc18>"
      ]
     },
     "execution_count": 15,
     "metadata": {},
     "output_type": "execute_result"
    }
   ],
   "source": [
    "training_set"
   ]
  },
  {
   "cell_type": "code",
   "execution_count": 16,
   "metadata": {},
   "outputs": [
    {
     "name": "stdout",
     "output_type": "stream",
     "text": [
      "Found 134 images belonging to 2 classes.\n"
     ]
    }
   ],
   "source": [
    "test_set = test_datagen.flow_from_directory('Dataset/Test',\n",
    "                                            target_size = (224, 224),\n",
    "                                            batch_size = 32,\n",
    "                                            class_mode = 'categorical')"
   ]
  },
  {
   "cell_type": "code",
   "execution_count": 18,
   "metadata": {
    "scrolled": true
   },
   "outputs": [
    {
     "name": "stdout",
     "output_type": "stream",
     "text": [
      "Epoch 1/50\n",
      "13/13 [==============================] - 46s 4s/step - loss: 1.0917 - accuracy: 0.5240 - val_loss: 0.6646 - val_accuracy: 0.6791\n",
      "Epoch 2/50\n",
      "13/13 [==============================] - 50s 4s/step - loss: 0.6354 - accuracy: 0.5529 - val_loss: 0.6817 - val_accuracy: 0.5000\n",
      "Epoch 3/50\n",
      "13/13 [==============================] - 44s 3s/step - loss: 0.5469 - accuracy: 0.7332 - val_loss: 0.8318 - val_accuracy: 0.3881\n",
      "Epoch 4/50\n",
      "13/13 [==============================] - 38s 3s/step - loss: 0.4627 - accuracy: 0.7692 - val_loss: 0.9477 - val_accuracy: 0.3657\n",
      "Epoch 5/50\n",
      "13/13 [==============================] - 38s 3s/step - loss: 0.4244 - accuracy: 0.7957 - val_loss: 0.7581 - val_accuracy: 0.5075\n",
      "Epoch 6/50\n",
      "13/13 [==============================] - 39s 3s/step - loss: 0.3939 - accuracy: 0.8197 - val_loss: 1.1484 - val_accuracy: 0.4328\n",
      "Epoch 7/50\n",
      "13/13 [==============================] - 37s 3s/step - loss: 0.3647 - accuracy: 0.8438 - val_loss: 0.7012 - val_accuracy: 0.5821\n",
      "Epoch 8/50\n",
      "13/13 [==============================] - 38s 3s/step - loss: 0.3478 - accuracy: 0.8341 - val_loss: 0.7850 - val_accuracy: 0.5224\n",
      "Epoch 9/50\n",
      "13/13 [==============================] - 38s 3s/step - loss: 0.3253 - accuracy: 0.8678 - val_loss: 0.5928 - val_accuracy: 0.6493\n",
      "Epoch 10/50\n",
      "13/13 [==============================] - 39s 3s/step - loss: 0.2748 - accuracy: 0.8846 - val_loss: 0.6508 - val_accuracy: 0.6642\n",
      "Epoch 11/50\n",
      "13/13 [==============================] - 38s 3s/step - loss: 0.3177 - accuracy: 0.8750 - val_loss: 0.4774 - val_accuracy: 0.7164\n",
      "Epoch 12/50\n",
      "13/13 [==============================] - 37s 3s/step - loss: 0.2568 - accuracy: 0.9062 - val_loss: 0.9595 - val_accuracy: 0.6493\n",
      "Epoch 13/50\n",
      "13/13 [==============================] - 38s 3s/step - loss: 0.2600 - accuracy: 0.9014 - val_loss: 0.5924 - val_accuracy: 0.7612\n",
      "Epoch 14/50\n",
      "13/13 [==============================] - 37s 3s/step - loss: 0.2507 - accuracy: 0.9111 - val_loss: 0.3511 - val_accuracy: 0.8284\n",
      "Epoch 15/50\n",
      "13/13 [==============================] - 38s 3s/step - loss: 0.2037 - accuracy: 0.9423 - val_loss: 0.5332 - val_accuracy: 0.7463\n",
      "Epoch 16/50\n",
      "13/13 [==============================] - 38s 3s/step - loss: 0.2351 - accuracy: 0.9087 - val_loss: 0.4290 - val_accuracy: 0.7463\n",
      "Epoch 17/50\n",
      "13/13 [==============================] - 39s 3s/step - loss: 0.2720 - accuracy: 0.9087 - val_loss: 0.4396 - val_accuracy: 0.7537\n",
      "Epoch 18/50\n",
      "13/13 [==============================] - 40s 3s/step - loss: 0.1953 - accuracy: 0.9327 - val_loss: 0.4403 - val_accuracy: 0.8209\n",
      "Epoch 19/50\n",
      "13/13 [==============================] - 37s 3s/step - loss: 0.1526 - accuracy: 0.9471 - val_loss: 0.3150 - val_accuracy: 0.8358\n",
      "Epoch 20/50\n",
      "13/13 [==============================] - 38s 3s/step - loss: 0.1358 - accuracy: 0.9543 - val_loss: 0.4094 - val_accuracy: 0.8284\n",
      "Epoch 21/50\n",
      "13/13 [==============================] - 37s 3s/step - loss: 0.1262 - accuracy: 0.9615 - val_loss: 0.3927 - val_accuracy: 0.8284\n",
      "Epoch 22/50\n",
      "13/13 [==============================] - 38s 3s/step - loss: 0.0958 - accuracy: 0.9712 - val_loss: 1.4742 - val_accuracy: 0.7910\n",
      "Epoch 23/50\n",
      "13/13 [==============================] - 38s 3s/step - loss: 0.3514 - accuracy: 0.9038 - val_loss: 0.4022 - val_accuracy: 0.7910\n",
      "Epoch 24/50\n",
      "13/13 [==============================] - 39s 3s/step - loss: 0.2551 - accuracy: 0.9351 - val_loss: 0.3083 - val_accuracy: 0.8433\n",
      "Epoch 25/50\n",
      "13/13 [==============================] - 38s 3s/step - loss: 0.1680 - accuracy: 0.9495 - val_loss: 0.3491 - val_accuracy: 0.8507\n",
      "Epoch 26/50\n",
      "13/13 [==============================] - 58s 4s/step - loss: 0.1539 - accuracy: 0.9447 - val_loss: 0.2067 - val_accuracy: 0.9030\n",
      "Epoch 27/50\n",
      "13/13 [==============================] - 62s 5s/step - loss: 0.1334 - accuracy: 0.9567 - val_loss: 0.8104 - val_accuracy: 0.7015\n",
      "Epoch 28/50\n",
      "13/13 [==============================] - 47s 4s/step - loss: 0.2209 - accuracy: 0.9303 - val_loss: 0.4268 - val_accuracy: 0.7836\n",
      "Epoch 29/50\n",
      "13/13 [==============================] - 60s 5s/step - loss: 0.2032 - accuracy: 0.9183 - val_loss: 0.4594 - val_accuracy: 0.8060\n",
      "Epoch 30/50\n",
      "13/13 [==============================] - 56s 4s/step - loss: 0.1510 - accuracy: 0.9567 - val_loss: 0.2450 - val_accuracy: 0.8955\n",
      "Epoch 31/50\n",
      "13/13 [==============================] - 63s 5s/step - loss: 0.0621 - accuracy: 0.9784 - val_loss: 0.2720 - val_accuracy: 0.8806\n",
      "Epoch 32/50\n",
      "13/13 [==============================] - 80s 6s/step - loss: 0.0760 - accuracy: 0.9808 - val_loss: 0.4658 - val_accuracy: 0.8358\n",
      "Epoch 33/50\n",
      "13/13 [==============================] - 78s 6s/step - loss: 0.1096 - accuracy: 0.9688 - val_loss: 0.3194 - val_accuracy: 0.8881\n",
      "Epoch 34/50\n",
      "13/13 [==============================] - 70s 5s/step - loss: 0.0779 - accuracy: 0.9760 - val_loss: 0.2169 - val_accuracy: 0.9179\n",
      "Epoch 35/50\n",
      "13/13 [==============================] - 81s 6s/step - loss: 0.0809 - accuracy: 0.9808 - val_loss: 1.0533 - val_accuracy: 0.7239\n",
      "Epoch 36/50\n",
      "13/13 [==============================] - 56s 4s/step - loss: 0.2450 - accuracy: 0.9087 - val_loss: 0.3824 - val_accuracy: 0.7836\n",
      "Epoch 37/50\n",
      "13/13 [==============================] - 50s 4s/step - loss: 0.2365 - accuracy: 0.9159 - val_loss: 0.5199 - val_accuracy: 0.7836\n",
      "Epoch 38/50\n",
      "13/13 [==============================] - 45s 3s/step - loss: 0.1737 - accuracy: 0.9471 - val_loss: 0.3931 - val_accuracy: 0.8433\n",
      "Epoch 39/50\n",
      "13/13 [==============================] - 55s 4s/step - loss: 0.1288 - accuracy: 0.9591 - val_loss: 0.3210 - val_accuracy: 0.8806\n",
      "Epoch 40/50\n",
      "13/13 [==============================] - 47s 4s/step - loss: 0.0631 - accuracy: 0.9784 - val_loss: 0.3584 - val_accuracy: 0.8582\n",
      "Epoch 41/50\n",
      "13/13 [==============================] - 64s 5s/step - loss: 0.0762 - accuracy: 0.9784 - val_loss: 0.2249 - val_accuracy: 0.9030\n",
      "Epoch 42/50\n",
      "13/13 [==============================] - 56s 4s/step - loss: 0.0672 - accuracy: 0.9784 - val_loss: 0.2418 - val_accuracy: 0.9179\n",
      "Epoch 43/50\n",
      "13/13 [==============================] - 80s 6s/step - loss: 0.0512 - accuracy: 0.9856 - val_loss: 0.2088 - val_accuracy: 0.9254\n",
      "Epoch 44/50\n",
      "13/13 [==============================] - 76s 6s/step - loss: 0.0436 - accuracy: 0.9808 - val_loss: 0.2796 - val_accuracy: 0.9254\n",
      "Epoch 45/50\n",
      "13/13 [==============================] - 75s 6s/step - loss: 0.0446 - accuracy: 0.9904 - val_loss: 0.1846 - val_accuracy: 0.9179\n",
      "Epoch 46/50\n",
      "13/13 [==============================] - 49s 4s/step - loss: 0.0307 - accuracy: 0.9928 - val_loss: 0.4008 - val_accuracy: 0.8955\n",
      "Epoch 47/50\n",
      "13/13 [==============================] - 39s 3s/step - loss: 0.0748 - accuracy: 0.9808 - val_loss: 0.4216 - val_accuracy: 0.8731\n",
      "Epoch 48/50\n",
      "13/13 [==============================] - 41s 3s/step - loss: 0.0982 - accuracy: 0.9688 - val_loss: 0.2216 - val_accuracy: 0.8881\n",
      "Epoch 49/50\n",
      "13/13 [==============================] - 40s 3s/step - loss: 0.0684 - accuracy: 0.9856 - val_loss: 0.2043 - val_accuracy: 0.9179\n",
      "Epoch 50/50\n",
      "13/13 [==============================] - 43s 3s/step - loss: 0.0311 - accuracy: 0.9904 - val_loss: 0.2243 - val_accuracy: 0.9179\n"
     ]
    }
   ],
   "source": [
    "# fit the model\n",
    "# Run the cell. It will take some time to execute\n",
    "r = model.fit_generator(\n",
    "  training_set,\n",
    "  validation_data=test_set,\n",
    "  epochs=50,\n",
    "  steps_per_epoch=len(training_set),\n",
    "  validation_steps=len(test_set)\n",
    ")"
   ]
  },
  {
   "cell_type": "code",
   "execution_count": 21,
   "metadata": {},
   "outputs": [
    {
     "name": "stdout",
     "output_type": "stream",
     "text": [
      "Collecting Pillow==7.1.2\n",
      "  Using cached Pillow-7.1.2-cp36-cp36m-win_amd64.whl (2.0 MB)\n",
      "Installing collected packages: Pillow\n",
      "  Attempting uninstall: Pillow\n",
      "    Found existing installation: Pillow 8.1.2\n",
      "    Uninstalling Pillow-8.1.2:\n",
      "      Successfully uninstalled Pillow-8.1.2\n",
      "Successfully installed Pillow-7.1.2\n"
     ]
    }
   ],
   "source": [
    "#!pip install Pillow==7.1.2"
   ]
  },
  {
   "cell_type": "code",
   "execution_count": 45,
   "metadata": {},
   "outputs": [
    {
     "data": {
      "image/png": "[encoded data removed]",
      "text/plain": [
       "<Figure size 432x288 with 1 Axes>"
      ]
     },
     "metadata": {
      "needs_background": "light"
     },
     "output_type": "display_data"
    },
    {
     "data": {
      "image/png": "[encoded data removed]",
      "text/plain": [
       "<Figure size 432x288 with 1 Axes>"
      ]
     },
     "metadata": {
      "needs_background": "light"
     },
     "output_type": "display_data"
    },
    {
     "data": {
      "text/plain": [
       "<Figure size 432x288 with 0 Axes>"
      ]
     },
     "metadata": {},
     "output_type": "display_data"
    }
   ],
   "source": [
    "# plot the loss\n",
    "plt.plot(r.history['loss'], label='train loss')\n",
    "plt.plot(r.history['val_loss'], label='val loss')\n",
    "plt.legend()\n",
    "plt.show()\n",
    "plt.savefig('loss.png')\n",
    "\n",
    "# plot the accuracy\n",
    "plt.plot(r.history['accuracy'], label='train acc')\n",
    "plt.plot(r.history['val_accuracy'], label='val acc')\n",
    "plt.legend()\n",
    "plt.show()\n",
    "plt.savefig('AccVal_acc.png')"
   ]
  },
  {
   "cell_type": "code",
   "execution_count": 20,
   "metadata": {},
   "outputs": [],
   "source": [
    "# save it as a h5 file\n",
    "\n",
    "\n",
    "from tensorflow.keras.models import load_model\n",
    "\n",
    "model.save('model_vgg_50.h5')"
   ]
  },
  {
   "cell_type": "code",
   "execution_count": null,
   "metadata": {},
   "outputs": [],
   "source": []
  },
  {
   "cell_type": "code",
   "execution_count": 21,
   "metadata": {},
   "outputs": [],
   "source": [
    "\n",
    "y_pred = model.predict(test_set)\n"
   ]
  },
  {
   "cell_type": "code",
   "execution_count": 22,
   "metadata": {},
   "outputs": [
    {
     "data": {
      "text/plain": [
       "array([[1.0000000e+00, 3.4012237e-17],\n",
       "       [1.0000000e+00, 1.1563288e-19],\n",
       "       [9.9999714e-01, 2.8724164e-06],\n",
       "       [2.8171399e-01, 7.1828598e-01],\n",
       "       [1.0000000e+00, 3.9806549e-16],\n",
       "       [1.0000000e+00, 1.7515119e-09],\n",
       "       [1.0338003e-02, 9.8966205e-01],\n",
       "       [6.4665377e-03, 9.9353349e-01],\n",
       "       [1.0000000e+00, 1.9220795e-12],\n",
       "       [1.0000000e+00, 9.3186223e-09],\n",
       "       [1.0000000e+00, 4.5382822e-11],\n",
       "       [9.9998891e-01, 1.1139601e-05],\n",
       "       [9.9994516e-01, 5.4837110e-05],\n",
       "       [1.0000000e+00, 5.4480752e-16],\n",
       "       [6.5795839e-02, 9.3420416e-01],\n",
       "       [7.6186657e-04, 9.9923813e-01],\n",
       "       [8.5069780e-04, 9.9914932e-01],\n",
       "       [1.0000000e+00, 2.0790191e-21],\n",
       "       [9.6690585e-04, 9.9903309e-01],\n",
       "       [1.0000000e+00, 2.7877796e-08],\n",
       "       [1.0000000e+00, 5.6905832e-20],\n",
       "       [1.1973300e-02, 9.8802674e-01],\n",
       "       [1.0000000e+00, 1.1153264e-13],\n",
       "       [1.0000000e+00, 8.8834158e-09],\n",
       "       [4.3313365e-04, 9.9956685e-01],\n",
       "       [1.7470539e-02, 9.8252952e-01],\n",
       "       [1.3746317e-03, 9.9862540e-01],\n",
       "       [1.0000000e+00, 2.3433943e-08],\n",
       "       [1.0000000e+00, 1.5332362e-13],\n",
       "       [1.0000000e+00, 4.0718175e-14],\n",
       "       [9.9997663e-01, 2.3376781e-05],\n",
       "       [1.0000000e+00, 9.9092345e-14],\n",
       "       [9.9187791e-01, 8.1221433e-03],\n",
       "       [4.6479348e-03, 9.9535203e-01],\n",
       "       [1.0000000e+00, 4.3109727e-13],\n",
       "       [9.9999988e-01, 7.3118329e-08],\n",
       "       [1.0000000e+00, 6.4413985e-18],\n",
       "       [1.0000000e+00, 1.8417347e-12],\n",
       "       [3.3383060e-03, 9.9666166e-01],\n",
       "       [2.1100249e-03, 9.9788994e-01],\n",
       "       [1.0000000e+00, 2.5882965e-08],\n",
       "       [1.4103089e-03, 9.9858969e-01],\n",
       "       [1.0000000e+00, 5.8754529e-10],\n",
       "       [5.0874281e-01, 4.9125719e-01],\n",
       "       [9.9992657e-01, 7.3461706e-05],\n",
       "       [1.6181679e-02, 9.8381835e-01],\n",
       "       [1.0000000e+00, 0.0000000e+00],\n",
       "       [9.9961072e-01, 3.8928015e-04],\n",
       "       [1.0000000e+00, 3.8068638e-18],\n",
       "       [1.0000000e+00, 3.5205390e-14],\n",
       "       [1.0000000e+00, 0.0000000e+00],\n",
       "       [9.9677831e-01, 3.2216574e-03],\n",
       "       [1.0000000e+00, 3.0340793e-32],\n",
       "       [1.0000000e+00, 5.2784365e-33],\n",
       "       [4.5128076e-04, 9.9954873e-01],\n",
       "       [1.0000000e+00, 8.8429751e-21],\n",
       "       [1.0000000e+00, 1.0530515e-09],\n",
       "       [1.1816780e-03, 9.9881834e-01],\n",
       "       [9.8854315e-04, 9.9901140e-01],\n",
       "       [1.0000000e+00, 6.9551198e-11],\n",
       "       [9.9999976e-01, 2.8667222e-07],\n",
       "       [6.2217127e-04, 9.9937785e-01],\n",
       "       [1.4779198e-03, 9.9852210e-01],\n",
       "       [1.0000000e+00, 4.3683387e-33],\n",
       "       [1.0000000e+00, 5.9321856e-13],\n",
       "       [7.5571495e-01, 2.4428508e-01],\n",
       "       [1.0000000e+00, 6.4317048e-24],\n",
       "       [6.2015837e-01, 3.7984166e-01],\n",
       "       [1.0000000e+00, 0.0000000e+00],\n",
       "       [4.7691348e-03, 9.9523085e-01],\n",
       "       [2.0887591e-01, 7.9112405e-01],\n",
       "       [1.0000000e+00, 6.5615491e-09],\n",
       "       [1.0000000e+00, 2.0771272e-11],\n",
       "       [1.3559556e-03, 9.9864405e-01],\n",
       "       [2.7536154e-03, 9.9724638e-01],\n",
       "       [1.0000000e+00, 5.2640049e-12],\n",
       "       [1.0301974e-01, 8.9698029e-01],\n",
       "       [3.8521875e-02, 9.6147811e-01],\n",
       "       [1.0000000e+00, 3.1153827e-16],\n",
       "       [4.3297727e-03, 9.9567020e-01],\n",
       "       [1.8298851e-03, 9.9817014e-01],\n",
       "       [1.0000000e+00, 6.0187727e-12],\n",
       "       [1.4306817e-03, 9.9856925e-01],\n",
       "       [3.7100270e-02, 9.6289968e-01],\n",
       "       [9.9998474e-01, 1.5310623e-05],\n",
       "       [1.0000000e+00, 2.0425153e-11],\n",
       "       [1.0000000e+00, 8.8389348e-12],\n",
       "       [1.0000000e+00, 3.5049867e-26],\n",
       "       [6.3944311e-04, 9.9936062e-01],\n",
       "       [1.0000000e+00, 8.3467920e-12],\n",
       "       [1.0000000e+00, 3.7078891e-08],\n",
       "       [9.9999893e-01, 1.0730570e-06],\n",
       "       [9.9999774e-01, 2.2827016e-06],\n",
       "       [1.0000000e+00, 7.1331629e-10],\n",
       "       [8.6850551e-04, 9.9913150e-01],\n",
       "       [1.5374493e-02, 9.8462558e-01],\n",
       "       [9.9997938e-01, 2.0597279e-05],\n",
       "       [1.3903109e-03, 9.9860966e-01],\n",
       "       [7.2227488e-04, 9.9927777e-01],\n",
       "       [1.0000000e+00, 4.7360467e-22],\n",
       "       [1.0000000e+00, 0.0000000e+00],\n",
       "       [9.9973184e-01, 2.6815463e-04],\n",
       "       [3.4870201e-01, 6.5129805e-01],\n",
       "       [2.1948197e-03, 9.9780518e-01],\n",
       "       [3.7078552e-02, 9.6292150e-01],\n",
       "       [1.0000000e+00, 2.1532746e-13],\n",
       "       [1.0000000e+00, 3.8061261e-09],\n",
       "       [1.0000000e+00, 5.1420938e-12],\n",
       "       [1.0000000e+00, 7.3202822e-10],\n",
       "       [5.4804515e-03, 9.9451953e-01],\n",
       "       [2.8235428e-03, 9.9717641e-01],\n",
       "       [1.9796875e-03, 9.9802029e-01],\n",
       "       [1.1640604e-03, 9.9883598e-01],\n",
       "       [3.1562455e-03, 9.9684381e-01],\n",
       "       [9.9980360e-01, 1.9647751e-04],\n",
       "       [1.0000000e+00, 6.1574518e-19],\n",
       "       [1.0000000e+00, 0.0000000e+00],\n",
       "       [9.9999332e-01, 6.7240453e-06],\n",
       "       [8.1888083e-03, 9.9181116e-01],\n",
       "       [2.3971961e-03, 9.9760288e-01],\n",
       "       [9.6846503e-01, 3.1534921e-02],\n",
       "       [1.0000000e+00, 6.3820082e-12],\n",
       "       [1.0000000e+00, 2.6841393e-26],\n",
       "       [1.8034104e-03, 9.9819666e-01],\n",
       "       [1.0000000e+00, 3.7766086e-16],\n",
       "       [1.5411937e-03, 9.9845886e-01],\n",
       "       [8.4417826e-01, 1.5582176e-01],\n",
       "       [1.0000000e+00, 7.3735601e-10],\n",
       "       [1.0000000e+00, 4.6418040e-22],\n",
       "       [1.6438272e-03, 9.9835616e-01],\n",
       "       [6.1319332e-04, 9.9938679e-01],\n",
       "       [1.7485063e-03, 9.9825150e-01],\n",
       "       [1.0000000e+00, 7.5670779e-16],\n",
       "       [4.8383730e-04, 9.9951613e-01]], dtype=float32)"
      ]
     },
     "execution_count": 22,
     "metadata": {},
     "output_type": "execute_result"
    }
   ],
   "source": [
    "y_pred"
   ]
  },
  {
   "cell_type": "code",
   "execution_count": 23,
   "metadata": {},
   "outputs": [],
   "source": [
    "import numpy as np\n",
    "y_pred = np.argmax(y_pred, axis=1)"
   ]
  },
  {
   "cell_type": "code",
   "execution_count": 24,
   "metadata": {},
   "outputs": [
    {
     "data": {
      "text/plain": [
       "array([0, 0, 0, 1, 0, 0, 1, 1, 0, 0, 0, 0, 0, 0, 1, 1, 1, 0, 1, 0, 0, 1,\n",
       "       0, 0, 1, 1, 1, 0, 0, 0, 0, 0, 0, 1, 0, 0, 0, 0, 1, 1, 0, 1, 0, 0,\n",
       "       0, 1, 0, 0, 0, 0, 0, 0, 0, 0, 1, 0, 0, 1, 1, 0, 0, 1, 1, 0, 0, 0,\n",
       "       0, 0, 0, 1, 1, 0, 0, 1, 1, 0, 1, 1, 0, 1, 1, 0, 1, 1, 0, 0, 0, 0,\n",
       "       1, 0, 0, 0, 0, 0, 1, 1, 0, 1, 1, 0, 0, 0, 1, 1, 1, 0, 0, 0, 0, 1,\n",
       "       1, 1, 1, 1, 0, 0, 0, 0, 1, 1, 0, 0, 0, 1, 0, 1, 0, 0, 0, 1, 1, 1,\n",
       "       0, 1], dtype=int64)"
      ]
     },
     "execution_count": 24,
     "metadata": {},
     "output_type": "execute_result"
    }
   ],
   "source": [
    "y_pred"
   ]
  },
  {
   "cell_type": "code",
   "execution_count": null,
   "metadata": {},
   "outputs": [],
   "source": []
  },
  {
   "cell_type": "code",
   "execution_count": 25,
   "metadata": {},
   "outputs": [],
   "source": [
    "from tensorflow.keras.models import load_model\n",
    "from tensorflow.keras.preprocessing import image"
   ]
  },
  {
   "cell_type": "code",
   "execution_count": 27,
   "metadata": {},
   "outputs": [],
   "source": [
    "model=load_model('model_vgg_50.h5')"
   ]
  },
  {
   "cell_type": "code",
   "execution_count": null,
   "metadata": {},
   "outputs": [],
   "source": []
  },
  {
   "cell_type": "code",
   "execution_count": 35,
   "metadata": {},
   "outputs": [],
   "source": [
    "img=image.load_img('Dataset/Test/Uninfected/2.png',target_size=(224,224))\n",
    "\n"
   ]
  },
  {
   "cell_type": "code",
   "execution_count": 36,
   "metadata": {},
   "outputs": [
    {
     "data": {
      "text/plain": [
       "array([[[0., 0., 0.],\n",
       "        [0., 0., 0.],\n",
       "        [0., 0., 0.],\n",
       "        ...,\n",
       "        [0., 0., 0.],\n",
       "        [0., 0., 0.],\n",
       "        [0., 0., 0.]],\n",
       "\n",
       "       [[0., 0., 0.],\n",
       "        [0., 0., 0.],\n",
       "        [0., 0., 0.],\n",
       "        ...,\n",
       "        [0., 0., 0.],\n",
       "        [0., 0., 0.],\n",
       "        [0., 0., 0.]],\n",
       "\n",
       "       [[0., 0., 0.],\n",
       "        [0., 0., 0.],\n",
       "        [0., 0., 0.],\n",
       "        ...,\n",
       "        [0., 0., 0.],\n",
       "        [0., 0., 0.],\n",
       "        [0., 0., 0.]],\n",
       "\n",
       "       ...,\n",
       "\n",
       "       [[0., 0., 0.],\n",
       "        [0., 0., 0.],\n",
       "        [0., 0., 0.],\n",
       "        ...,\n",
       "        [0., 0., 0.],\n",
       "        [0., 0., 0.],\n",
       "        [0., 0., 0.]],\n",
       "\n",
       "       [[0., 0., 0.],\n",
       "        [0., 0., 0.],\n",
       "        [0., 0., 0.],\n",
       "        ...,\n",
       "        [0., 0., 0.],\n",
       "        [0., 0., 0.],\n",
       "        [0., 0., 0.]],\n",
       "\n",
       "       [[0., 0., 0.],\n",
       "        [0., 0., 0.],\n",
       "        [0., 0., 0.],\n",
       "        ...,\n",
       "        [0., 0., 0.],\n",
       "        [0., 0., 0.],\n",
       "        [0., 0., 0.]]], dtype=float32)"
      ]
     },
     "execution_count": 36,
     "metadata": {},
     "output_type": "execute_result"
    }
   ],
   "source": [
    "x=image.img_to_array(img)\n",
    "x"
   ]
  },
  {
   "cell_type": "code",
   "execution_count": 38,
   "metadata": {},
   "outputs": [
    {
     "data": {
      "text/plain": [
       "(224, 224, 3)"
      ]
     },
     "execution_count": 38,
     "metadata": {},
     "output_type": "execute_result"
    }
   ],
   "source": [
    "x.shape"
   ]
  },
  {
   "cell_type": "code",
   "execution_count": 39,
   "metadata": {},
   "outputs": [],
   "source": [
    "x=x/255"
   ]
  },
  {
   "cell_type": "code",
   "execution_count": 40,
   "metadata": {},
   "outputs": [
    {
     "data": {
      "text/plain": [
       "(1, 224, 224, 3)"
      ]
     },
     "execution_count": 40,
     "metadata": {},
     "output_type": "execute_result"
    }
   ],
   "source": [
    "x=np.expand_dims(x,axis=0)\n",
    "img_data=preprocess_input(x)\n",
    "img_data.shape"
   ]
  },
  {
   "cell_type": "code",
   "execution_count": 41,
   "metadata": {},
   "outputs": [
    {
     "data": {
      "text/plain": [
       "array([[0., 1.]], dtype=float32)"
      ]
     },
     "execution_count": 41,
     "metadata": {},
     "output_type": "execute_result"
    }
   ],
   "source": [
    "model.predict(img_data)"
   ]
  },
  {
   "cell_type": "code",
   "execution_count": 42,
   "metadata": {},
   "outputs": [],
   "source": [
    "a=np.argmax(model.predict(img_data), axis=1)"
   ]
  },
  {
   "cell_type": "code",
   "execution_count": 43,
   "metadata": {},
   "outputs": [
    {
     "name": "stdout",
     "output_type": "stream",
     "text": [
      "Uninfected\n"
     ]
    }
   ],
   "source": [
    "if(a==1):\n",
    "    print(\"Uninfected\")\n",
    "else:\n",
    "    print(\"Infected\")"
   ]
  },
  {
   "cell_type": "code",
   "execution_count": null,
   "metadata": {},
   "outputs": [],
   "source": []
  },
  {
   "cell_type": "code",
   "execution_count": null,
   "metadata": {},
   "outputs": [],
   "source": []
  }
 ],
 "metadata": {
  "kernelspec": {
   "display_name": "Python 3",
   "language": "python",
   "name": "python3"
  },
  "language_info": {
   "codemirror_mode": {
    "name": "ipython",
    "version": 3
   },
   "file_extension": ".py",
   "mimetype": "text/x-python",
   "name": "python",
   "nbconvert_exporter": "python",
   "pygments_lexer": "ipython3",
   "version": "3.6.9"
  }
 },
 "nbformat": 4,
 "nbformat_minor": 2
}
